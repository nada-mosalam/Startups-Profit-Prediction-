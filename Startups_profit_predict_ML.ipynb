{
 "cells": [
  {
   "cell_type": "markdown",
   "metadata": {},
   "source": [
    "# Importing libraries"
   ]
  },
  {
   "cell_type": "code",
   "execution_count": 1,
   "metadata": {},
   "outputs": [],
   "source": [
    "import numpy as np\n",
    "import pandas as pd\n",
    "import matplotlib.pyplot as plt\n",
    "import plotly_express as px\n",
    "import seaborn as sns\n",
    "sns.set()"
   ]
  },
  {
   "cell_type": "markdown",
   "metadata": {},
   "source": [
    "# Displaying data"
   ]
  },
  {
   "cell_type": "code",
   "execution_count": 2,
   "metadata": {},
   "outputs": [
    {
     "data": {
      "text/html": [
       "<div>\n",
       "<style scoped>\n",
       "    .dataframe tbody tr th:only-of-type {\n",
       "        vertical-align: middle;\n",
       "    }\n",
       "\n",
       "    .dataframe tbody tr th {\n",
       "        vertical-align: top;\n",
       "    }\n",
       "\n",
       "    .dataframe thead th {\n",
       "        text-align: right;\n",
       "    }\n",
       "</style>\n",
       "<table border=\"1\" class=\"dataframe\">\n",
       "  <thead>\n",
       "    <tr style=\"text-align: right;\">\n",
       "      <th></th>\n",
       "      <th>R&amp;D Spend</th>\n",
       "      <th>Administration</th>\n",
       "      <th>Marketing Spend</th>\n",
       "      <th>State</th>\n",
       "      <th>Profit</th>\n",
       "    </tr>\n",
       "  </thead>\n",
       "  <tbody>\n",
       "    <tr>\n",
       "      <th>0</th>\n",
       "      <td>165349.20</td>\n",
       "      <td>136897.80</td>\n",
       "      <td>471784.10</td>\n",
       "      <td>New York</td>\n",
       "      <td>192261.83</td>\n",
       "    </tr>\n",
       "    <tr>\n",
       "      <th>1</th>\n",
       "      <td>162597.70</td>\n",
       "      <td>151377.59</td>\n",
       "      <td>443898.53</td>\n",
       "      <td>California</td>\n",
       "      <td>191792.06</td>\n",
       "    </tr>\n",
       "    <tr>\n",
       "      <th>2</th>\n",
       "      <td>153441.51</td>\n",
       "      <td>101145.55</td>\n",
       "      <td>407934.54</td>\n",
       "      <td>Florida</td>\n",
       "      <td>191050.39</td>\n",
       "    </tr>\n",
       "    <tr>\n",
       "      <th>3</th>\n",
       "      <td>144372.41</td>\n",
       "      <td>118671.85</td>\n",
       "      <td>383199.62</td>\n",
       "      <td>New York</td>\n",
       "      <td>182901.99</td>\n",
       "    </tr>\n",
       "    <tr>\n",
       "      <th>4</th>\n",
       "      <td>142107.34</td>\n",
       "      <td>91391.77</td>\n",
       "      <td>366168.42</td>\n",
       "      <td>Florida</td>\n",
       "      <td>166187.94</td>\n",
       "    </tr>\n",
       "  </tbody>\n",
       "</table>\n",
       "</div>"
      ],
      "text/plain": [
       "   R&D Spend  Administration  Marketing Spend       State     Profit\n",
       "0  165349.20       136897.80        471784.10    New York  192261.83\n",
       "1  162597.70       151377.59        443898.53  California  191792.06\n",
       "2  153441.51       101145.55        407934.54     Florida  191050.39\n",
       "3  144372.41       118671.85        383199.62    New York  182901.99\n",
       "4  142107.34        91391.77        366168.42     Florida  166187.94"
      ]
     },
     "execution_count": 2,
     "metadata": {},
     "output_type": "execute_result"
    }
   ],
   "source": [
    "startups = pd.read_csv("50_Startups.csv\")\n",
    "startups.head()"
   ]
  },
  {
   "cell_type": "code",
   "execution_count": 3,
   "metadata": {},
   "outputs": [
    {
     "name": "stdout",
     "output_type": "stream",
     "text": [
      "<class 'pandas.core.frame.DataFrame'>\n",
      "RangeIndex: 50 entries, 0 to 49\n",
      "Data columns (total 5 columns):\n",
      " #   Column           Non-Null Count  Dtype  \n",
      "---  ------           --------------  -----  \n",
      " 0   R&D Spend        50 non-null     float64\n",
      " 1   Administration   50 non-null     float64\n",
      " 2   Marketing Spend  50 non-null     float64\n",
      " 3   State            50 non-null     object \n",
      " 4   Profit           50 non-null     float64\n",
      "dtypes: float64(4), object(1)\n",
      "memory usage: 2.1+ KB\n"
     ]
    }
   ],
   "source": [
    "startups.info()"
   ]
  },
  {
   "cell_type": "code",
   "execution_count": 4,
   "metadata": {},
   "outputs": [
    {
     "data": {
      "text/html": [
       "<div>\n",
       "<style scoped>\n",
       "    .dataframe tbody tr th:only-of-type {\n",
       "        vertical-align: middle;\n",
       "    }\n",
       "\n",
       "    .dataframe tbody tr th {\n",
       "        vertical-align: top;\n",
       "    }\n",
       "\n",
       "    .dataframe thead th {\n",
       "        text-align: right;\n",
       "    }\n",
       "</style>\n",
       "<table border=\"1\" class=\"dataframe\">\n",
       "  <thead>\n",
       "    <tr style=\"text-align: right;\">\n",
       "      <th></th>\n",
       "      <th>R&amp;D Spend</th>\n",
       "      <th>Administration</th>\n",
       "      <th>Marketing Spend</th>\n",
       "      <th>Profit</th>\n",
       "    </tr>\n",
       "  </thead>\n",
       "  <tbody>\n",
       "    <tr>\n",
       "      <th>count</th>\n",
       "      <td>50.000000</td>\n",
       "      <td>50.000000</td>\n",
       "      <td>50.000000</td>\n",
       "      <td>50.000000</td>\n",
       "    </tr>\n",
       "    <tr>\n",
       "      <th>mean</th>\n",
       "      <td>73721.615600</td>\n",
       "      <td>121344.639600</td>\n",
       "      <td>211025.097800</td>\n",
       "      <td>112012.639200</td>\n",
       "    </tr>\n",
       "    <tr>\n",
       "      <th>std</th>\n",
       "      <td>45902.256482</td>\n",
       "      <td>28017.802755</td>\n",
       "      <td>122290.310726</td>\n",
       "      <td>40306.180338</td>\n",
       "    </tr>\n",
       "    <tr>\n",
       "      <th>min</th>\n",
       "      <td>0.000000</td>\n",
       "      <td>51283.140000</td>\n",
       "      <td>0.000000</td>\n",
       "      <td>14681.400000</td>\n",
       "    </tr>\n",
       "    <tr>\n",
       "      <th>25%</th>\n",
       "      <td>39936.370000</td>\n",
       "      <td>103730.875000</td>\n",
       "      <td>129300.132500</td>\n",
       "      <td>90138.902500</td>\n",
       "    </tr>\n",
       "    <tr>\n",
       "      <th>50%</th>\n",
       "      <td>73051.080000</td>\n",
       "      <td>122699.795000</td>\n",
       "      <td>212716.240000</td>\n",
       "      <td>107978.190000</td>\n",
       "    </tr>\n",
       "    <tr>\n",
       "      <th>75%</th>\n",
       "      <td>101602.800000</td>\n",
       "      <td>144842.180000</td>\n",
       "      <td>299469.085000</td>\n",
       "      <td>139765.977500</td>\n",
       "    </tr>\n",
       "    <tr>\n",
       "      <th>max</th>\n",
       "      <td>165349.200000</td>\n",
       "      <td>182645.560000</td>\n",
       "      <td>471784.100000</td>\n",
       "      <td>192261.830000</td>\n",
       "    </tr>\n",
       "  </tbody>\n",
       "</table>\n",
       "</div>"
      ],
      "text/plain": [
       "           R&D Spend  Administration  Marketing Spend         Profit\n",
       "count      50.000000       50.000000        50.000000      50.000000\n",
       "mean    73721.615600   121344.639600    211025.097800  112012.639200\n",
       "std     45902.256482    28017.802755    122290.310726   40306.180338\n",
       "min         0.000000    51283.140000         0.000000   14681.400000\n",
       "25%     39936.370000   103730.875000    129300.132500   90138.902500\n",
       "50%     73051.080000   122699.795000    212716.240000  107978.190000\n",
       "75%    101602.800000   144842.180000    299469.085000  139765.977500\n",
       "max    165349.200000   182645.560000    471784.100000  192261.830000"
      ]
     },
     "execution_count": 4,
     "metadata": {},
     "output_type": "execute_result"
    }
   ],
   "source": [
    "startups.describe()"
   ]
  },
  {
   "cell_type": "code",
   "execution_count": 5,
   "metadata": {},
   "outputs": [
    {
     "data": {
      "text/plain": [
       "R&D Spend          0\n",
       "Administration     0\n",
       "Marketing Spend    0\n",
       "State              0\n",
       "Profit             0\n",
       "dtype: int64"
      ]
     },
     "execution_count": 5,
     "metadata": {},
     "output_type": "execute_result"
    }
   ],
   "source": [
    "startups.isna().sum()"
   ]
  },
  {
   "cell_type": "code",
   "execution_count": 6,
   "metadata": {},
   "outputs": [
    {
     "data": {
      "text/html": [
       "<div>\n",
       "<style scoped>\n",
       "    .dataframe tbody tr th:only-of-type {\n",
       "        vertical-align: middle;\n",
       "    }\n",
       "\n",
       "    .dataframe tbody tr th {\n",
       "        vertical-align: top;\n",
       "    }\n",
       "\n",
       "    .dataframe thead th {\n",
       "        text-align: right;\n",
       "    }\n",
       "</style>\n",
       "<table border=\"1\" class=\"dataframe\">\n",
       "  <thead>\n",
       "    <tr style=\"text-align: right;\">\n",
       "      <th></th>\n",
       "      <th>r&amp;d spend</th>\n",
       "      <th>administration</th>\n",
       "      <th>marketing spend</th>\n",
       "      <th>state</th>\n",
       "      <th>profit</th>\n",
       "    </tr>\n",
       "  </thead>\n",
       "  <tbody>\n",
       "    <tr>\n",
       "      <th>24</th>\n",
       "      <td>77044.01</td>\n",
       "      <td>99281.34</td>\n",
       "      <td>140574.81</td>\n",
       "      <td>New York</td>\n",
       "      <td>108552.04</td>\n",
       "    </tr>\n",
       "  </tbody>\n",
       "</table>\n",
       "</div>"
      ],
      "text/plain": [
       "    r&d spend  administration  marketing spend     state     profit\n",
       "24   77044.01        99281.34        140574.81  New York  108552.04"
      ]
     },
     "execution_count": 6,
     "metadata": {},
     "output_type": "execute_result"
    }
   ],
   "source": [
    "startups.columns = startups.columns.str.lower()\n",
    "startups.sample()"
   ]
  },
  {
   "cell_type": "markdown",
   "metadata": {},
   "source": [
    "# EDA"
   ]
  },
  {
   "cell_type": "code",
   "execution_count": 7,
   "metadata": {},
   "outputs": [
    {
     "data": {
      "text/plain": [
       "state\n",
       "New York      17\n",
       "California    17\n",
       "Florida       16\n",
       "Name: count, dtype: int64"
      ]
     },
     "execution_count": 7,
     "metadata": {},
     "output_type": "execute_result"
    }
   ],
   "source": [
    "startups.state.value_counts()"
   ]
  },
  {
   "cell_type": "code",
   "execution_count": 8,
   "metadata": {},
   "outputs": [
    {
     "data": {
      "text/html": [
       "<div>\n",
       "<style scoped>\n",
       "    .dataframe tbody tr th:only-of-type {\n",
       "        vertical-align: middle;\n",
       "    }\n",
       "\n",
       "    .dataframe tbody tr th {\n",
       "        vertical-align: top;\n",
       "    }\n",
       "\n",
       "    .dataframe thead th {\n",
       "        text-align: right;\n",
       "    }\n",
       "</style>\n",
       "<table border=\"1\" class=\"dataframe\">\n",
       "  <thead>\n",
       "    <tr style=\"text-align: right;\">\n",
       "      <th></th>\n",
       "      <th>r&amp;d spend</th>\n",
       "      <th>administration</th>\n",
       "      <th>marketing spend</th>\n",
       "      <th>profit</th>\n",
       "    </tr>\n",
       "  </thead>\n",
       "  <tbody>\n",
       "    <tr>\n",
       "      <th>r&amp;d spend</th>\n",
       "      <td>1.000000</td>\n",
       "      <td>0.241955</td>\n",
       "      <td>0.724248</td>\n",
       "      <td>0.972900</td>\n",
       "    </tr>\n",
       "    <tr>\n",
       "      <th>administration</th>\n",
       "      <td>0.241955</td>\n",
       "      <td>1.000000</td>\n",
       "      <td>-0.032154</td>\n",
       "      <td>0.200717</td>\n",
       "    </tr>\n",
       "    <tr>\n",
       "      <th>marketing spend</th>\n",
       "      <td>0.724248</td>\n",
       "      <td>-0.032154</td>\n",
       "      <td>1.000000</td>\n",
       "      <td>0.747766</td>\n",
       "    </tr>\n",
       "    <tr>\n",
       "      <th>profit</th>\n",
       "      <td>0.972900</td>\n",
       "      <td>0.200717</td>\n",
       "      <td>0.747766</td>\n",
       "      <td>1.000000</td>\n",
       "    </tr>\n",
       "  </tbody>\n",
       "</table>\n",
       "</div>"
      ],
      "text/plain": [
       "                 r&d spend  administration  marketing spend    profit\n",
       "r&d spend         1.000000        0.241955         0.724248  0.972900\n",
       "administration    0.241955        1.000000        -0.032154  0.200717\n",
       "marketing spend   0.724248       -0.032154         1.000000  0.747766\n",
       "profit            0.972900        0.200717         0.747766  1.000000"
      ]
     },
     "execution_count": 8,
     "metadata": {},
     "output_type": "execute_result"
    }
   ],
   "source": [
    "startups.drop('state',axis=1).corr()"
   ]
  },
  {
   "cell_type": "code",
   "execution_count": 9,
   "metadata": {},
   "outputs": [
    {
     "data": {
      "text/plain": [
       "profit             1.000000\n",
       "r&d spend          0.972900\n",
       "marketing spend    0.747766\n",
       "administration     0.200717\n",
       "Name: profit, dtype: float64"
      ]
     },
     "execution_count": 9,
     "metadata": {},
     "output_type": "execute_result"
    }
   ],
   "source": [
    "startups.drop('state',axis=1).corr()['profit'].sort_values(ascending=False)"
   ]
  },
  {
   "cell_type": "code",
   "execution_count": 10,
   "metadata": {},
   "outputs": [
    {
     "data": {
      "application/vnd.plotly.v1+json": {
       "config": {
        "plotlyServerURL": "https://plot.ly"
       },
       "data": [
        {
         "hovertemplate": "r&d spend=%{x}<br>marketing spend=%{y}<br>profit=%{marker.color}<extra></extra>",
         "legendgroup": "",
         "marker": {
          "color": [
           192261.83,
           191792.06,
           191050.39,
           182901.99,
           166187.94,
           156991.12,
           156122.51,
           155752.6,
           152211.77,
           149759.96,
           146121.95,
           144259.4,
           141585.52,
           134307.35,
           132602.65,
           129917.04,
           126992.93,
           125370.37,
           124266.9,
           122776.86,
           118474.03,
           111313.02,
           110352.25,
           108733.99,
           108552.04,
           107404.34,
           105733.54,
           105008.31,
           103282.38,
           101004.64,
           99937.59,
           97483.56,
           97427.84,
           96778.92,
           96712.8,
           96479.51,
           90708.19,
           89949.14,
           81229.06,
           81005.76,
           78239.91,
           77798.83,
           71498.49,
           69758.98,
           65200.33,
           64926.08,
           49490.75,
           42559.73,
           35673.41,
           14681.4
          ],
          "coloraxis": "coloraxis",
          "symbol": "circle"
         },
         "mode": "markers",
         "name": "",
         "orientation": "v",
         "showlegend": false,
         "type": "scatter",
         "x": [
          165349.2,
          162597.7,
          153441.51,
          144372.41,
          142107.34,
          131876.9,
          134615.46,
          130298.13,
          120542.52,
          123334.88,
          101913.08,
          100671.96,
          93863.75,
          91992.39,
          119943.24,
          114523.61,
          78013.11,
          94657.16,
          91749.16,
          86419.7,
          76253.86,
          78389.47,
          73994.56,
          67532.53,
          77044.01,
          64664.71,
          75328.87,
          72107.6,
          66051.52,
          65605.48,
          61994.48,
          61136.38,
          63408.86,
          55493.95,
          46426.07,
          46014.02,
          28663.76,
          44069.95,
          20229.59,
          38558.51,
          28754.33,
          27892.92,
          23640.93,
          15505.73,
          22177.74,
          1000.23,
          1315.46,
          0,
          542.05,
          0
         ],
         "xaxis": "x",
         "y": [
          471784.1,
          443898.53,
          407934.54,
          383199.62,
          366168.42,
          362861.36,
          127716.82,
          323876.68,
          311613.29,
          304981.62,
          229160.95,
          249744.55,
          249839.44,
          252664.93,
          256512.92,
          261776.23,
          264346.06,
          282574.31,
          294919.57,
          0,
          298664.47,
          299737.29,
          303319.26,
          304768.73,
          140574.81,
          137962.62,
          134050.07,
          353183.81,
          118148.2,
          107138.38,
          91131.24,
          88218.23,
          46085.25,
          214634.81,
          210797.67,
          205517.64,
          201126.82,
          197029.42,
          185265.1,
          174999.3,
          172795.67,
          164470.71,
          148001.11,
          35534.17,
          28334.72,
          1903.93,
          297114.46,
          0,
          0,
          45173.06
         ],
         "yaxis": "y"
        }
       ],
       "layout": {
        "coloraxis": {
         "colorbar": {
          "title": {
           "text": "profit"
          }
         },
         "colorscale": [
          [
           0,
           "#0d0887"
          ],
          [
           0.1111111111111111,
           "#46039f"
          ],
          [
           0.2222222222222222,
           "#7201a8"
          ],
          [
           0.3333333333333333,
           "#9c179e"
          ],
          [
           0.4444444444444444,
           "#bd3786"
          ],
          [
           0.5555555555555556,
           "#d8576b"
          ],
          [
           0.6666666666666666,
           "#ed7953"
          ],
          [
           0.7777777777777778,
           "#fb9f3a"
          ],
          [
           0.8888888888888888,
           "#fdca26"
          ],
          [
           1,
           "#f0f921"
          ]
         ]
        },
        "legend": {
         "tracegroupgap": 0
        },
        "template": {
         "data": {
          "bar": [
           {
            "error_x": {
             "color": "#2a3f5f"
            },
            "error_y": {
             "color": "#2a3f5f"
            },
            "marker": {
             "line": {
              "color": "#E5ECF6",
              "width": 0.5
             },
             "pattern": {
              "fillmode": "overlay",
              "size": 10,
              "solidity": 0.2
             }
            },
            "type": "bar"
           }
          ],
          "barpolar": [
           {
            "marker": {
             "line": {
              "color": "#E5ECF6",
              "width": 0.5
             },
             "pattern": {
              "fillmode": "overlay",
              "size": 10,
              "solidity": 0.2
             }
            },
            "type": "barpolar"
           }
          ],
          "carpet": [
           {
            "aaxis": {
             "endlinecolor": "#2a3f5f",
             "gridcolor": "white",
             "linecolor": "white",
             "minorgridcolor": "white",
             "startlinecolor": "#2a3f5f"
            },
            "baxis": {
             "endlinecolor": "#2a3f5f",
             "gridcolor": "white",
             "linecolor": "white",
             "minorgridcolor": "white",
             "startlinecolor": "#2a3f5f"
            },
            "type": "carpet"
           }
          ],
          "choropleth": [
           {
            "colorbar": {
             "outlinewidth": 0,
             "ticks": ""
            },
            "type": "choropleth"
           }
          ],
          "contour": [
           {
            "colorbar": {
             "outlinewidth": 0,
             "ticks": ""
            },
            "colorscale": [
             [
              0,
              "#0d0887"
             ],
             [
              0.1111111111111111,
              "#46039f"
             ],
             [
              0.2222222222222222,
              "#7201a8"
             ],
             [
              0.3333333333333333,
              "#9c179e"
             ],
             [
              0.4444444444444444,
              "#bd3786"
             ],
             [
              0.5555555555555556,
              "#d8576b"
             ],
             [
              0.6666666666666666,
              "#ed7953"
             ],
             [
              0.7777777777777778,
              "#fb9f3a"
             ],
             [
              0.8888888888888888,
              "#fdca26"
             ],
             [
              1,
              "#f0f921"
             ]
            ],
            "type": "contour"
           }
          ],
          "contourcarpet": [
           {
            "colorbar": {
             "outlinewidth": 0,
             "ticks": ""
            },
            "type": "contourcarpet"
           }
          ],
          "heatmap": [
           {
            "colorbar": {
             "outlinewidth": 0,
             "ticks": ""
            },
            "colorscale": [
             [
              0,
              "#0d0887"
             ],
             [
              0.1111111111111111,
              "#46039f"
             ],
             [
              0.2222222222222222,
              "#7201a8"
             ],
             [
              0.3333333333333333,
              "#9c179e"
             ],
             [
              0.4444444444444444,
              "#bd3786"
             ],
             [
              0.5555555555555556,
              "#d8576b"
             ],
             [
              0.6666666666666666,
              "#ed7953"
             ],
             [
              0.7777777777777778,
              "#fb9f3a"
             ],
             [
              0.8888888888888888,
              "#fdca26"
             ],
             [
              1,
              "#f0f921"
             ]
            ],
            "type": "heatmap"
           }
          ],
          "heatmapgl": [
           {
            "colorbar": {
             "outlinewidth": 0,
             "ticks": ""
            },
            "colorscale": [
             [
              0,
              "#0d0887"
             ],
             [
              0.1111111111111111,
              "#46039f"
             ],
             [
              0.2222222222222222,
              "#7201a8"
             ],
             [
              0.3333333333333333,
              "#9c179e"
             ],
             [
              0.4444444444444444,
              "#bd3786"
             ],
             [
              0.5555555555555556,
              "#d8576b"
             ],
             [
              0.6666666666666666,
              "#ed7953"
             ],
             [
              0.7777777777777778,
              "#fb9f3a"
             ],
             [
              0.8888888888888888,
              "#fdca26"
             ],
             [
              1,
              "#f0f921"
             ]
            ],
            "type": "heatmapgl"
           }
          ],
          "histogram": [
           {
            "marker": {
             "pattern": {
              "fillmode": "overlay",
              "size": 10,
              "solidity": 0.2
             }
            },
            "type": "histogram"
           }
          ],
          "histogram2d": [
           {
            "colorbar": {
             "outlinewidth": 0,
             "ticks": ""
            },
            "colorscale": [
             [
              0,
              "#0d0887"
             ],
             [
              0.1111111111111111,
              "#46039f"
             ],
             [
              0.2222222222222222,
              "#7201a8"
             ],
             [
              0.3333333333333333,
              "#9c179e"
             ],
             [
              0.4444444444444444,
              "#bd3786"
             ],
             [
              0.5555555555555556,
              "#d8576b"
             ],
             [
              0.6666666666666666,
              "#ed7953"
             ],
             [
              0.7777777777777778,
              "#fb9f3a"
             ],
             [
              0.8888888888888888,
              "#fdca26"
             ],
             [
              1,
              "#f0f921"
             ]
            ],
            "type": "histogram2d"
           }
          ],
          "histogram2dcontour": [
           {
            "colorbar": {
             "outlinewidth": 0,
             "ticks": ""
            },
            "colorscale": [
             [
              0,
              "#0d0887"
             ],
             [
              0.1111111111111111,
              "#46039f"
             ],
             [
              0.2222222222222222,
              "#7201a8"
             ],
             [
              0.3333333333333333,
              "#9c179e"
             ],
             [
              0.4444444444444444,
              "#bd3786"
             ],
             [
              0.5555555555555556,
              "#d8576b"
             ],
             [
              0.6666666666666666,
              "#ed7953"
             ],
             [
              0.7777777777777778,
              "#fb9f3a"
             ],
             [
              0.8888888888888888,
              "#fdca26"
             ],
             [
              1,
              "#f0f921"
             ]
            ],
            "type": "histogram2dcontour"
           }
          ],
          "mesh3d": [
           {
            "colorbar": {
             "outlinewidth": 0,
             "ticks": ""
            },
            "type": "mesh3d"
           }
          ],
          "parcoords": [
           {
            "line": {
             "colorbar": {
              "outlinewidth": 0,
              "ticks": ""
             }
            },
            "type": "parcoords"
           }
          ],
          "pie": [
           {
            "automargin": true,
            "type": "pie"
           }
          ],
          "scatter": [
           {
            "fillpattern": {
             "fillmode": "overlay",
             "size": 10,
             "solidity": 0.2
            },
            "type": "scatter"
           }
          ],
          "scatter3d": [
           {
            "line": {
             "colorbar": {
              "outlinewidth": 0,
              "ticks": ""
             }
            },
            "marker": {
             "colorbar": {
              "outlinewidth": 0,
              "ticks": ""
             }
            },
            "type": "scatter3d"
           }
          ],
          "scattercarpet": [
           {
            "marker": {
             "colorbar": {
              "outlinewidth": 0,
              "ticks": ""
             }
            },
            "type": "scattercarpet"
           }
          ],
          "scattergeo": [
           {
            "marker": {
             "colorbar": {
              "outlinewidth": 0,
              "ticks": ""
             }
            },
            "type": "scattergeo"
           }
          ],
          "scattergl": [
           {
            "marker": {
             "colorbar": {
              "outlinewidth": 0,
              "ticks": ""
             }
            },
            "type": "scattergl"
           }
          ],
          "scattermapbox": [
           {
            "marker": {
             "colorbar": {
              "outlinewidth": 0,
              "ticks": ""
             }
            },
            "type": "scattermapbox"
           }
          ],
          "scatterpolar": [
           {
            "marker": {
             "colorbar": {
              "outlinewidth": 0,
              "ticks": ""
             }
            },
            "type": "scatterpolar"
           }
          ],
          "scatterpolargl": [
           {
            "marker": {
             "colorbar": {
              "outlinewidth": 0,
              "ticks": ""
             }
            },
            "type": "scatterpolargl"
           }
          ],
          "scatterternary": [
           {
            "marker": {
             "colorbar": {
              "outlinewidth": 0,
              "ticks": ""
             }
            },
            "type": "scatterternary"
           }
          ],
          "surface": [
           {
            "colorbar": {
             "outlinewidth": 0,
             "ticks": ""
            },
            "colorscale": [
             [
              0,
              "#0d0887"
             ],
             [
              0.1111111111111111,
              "#46039f"
             ],
             [
              0.2222222222222222,
              "#7201a8"
             ],
             [
              0.3333333333333333,
              "#9c179e"
             ],
             [
              0.4444444444444444,
              "#bd3786"
             ],
             [
              0.5555555555555556,
              "#d8576b"
             ],
             [
              0.6666666666666666,
              "#ed7953"
             ],
             [
              0.7777777777777778,
              "#fb9f3a"
             ],
             [
              0.8888888888888888,
              "#fdca26"
             ],
             [
              1,
              "#f0f921"
             ]
            ],
            "type": "surface"
           }
          ],
          "table": [
           {
            "cells": {
             "fill": {
              "color": "#EBF0F8"
             },
             "line": {
              "color": "white"
             }
            },
            "header": {
             "fill": {
              "color": "#C8D4E3"
             },
             "line": {
              "color": "white"
             }
            },
            "type": "table"
           }
          ]
         },
         "layout": {
          "annotationdefaults": {
           "arrowcolor": "#2a3f5f",
           "arrowhead": 0,
           "arrowwidth": 1
          },
          "autotypenumbers": "strict",
          "coloraxis": {
           "colorbar": {
            "outlinewidth": 0,
            "ticks": ""
           }
          },
          "colorscale": {
           "diverging": [
            [
             0,
             "#8e0152"
            ],
            [
             0.1,
             "#c51b7d"
            ],
            [
             0.2,
             "#de77ae"
            ],
            [
             0.3,
             "#f1b6da"
            ],
            [
             0.4,
             "#fde0ef"
            ],
            [
             0.5,
             "#f7f7f7"
            ],
            [
             0.6,
             "#e6f5d0"
            ],
            [
             0.7,
             "#b8e186"
            ],
            [
             0.8,
             "#7fbc41"
            ],
            [
             0.9,
             "#4d9221"
            ],
            [
             1,
             "#276419"
            ]
           ],
           "sequential": [
            [
             0,
             "#0d0887"
            ],
            [
             0.1111111111111111,
             "#46039f"
            ],
            [
             0.2222222222222222,
             "#7201a8"
            ],
            [
             0.3333333333333333,
             "#9c179e"
            ],
            [
             0.4444444444444444,
             "#bd3786"
            ],
            [
             0.5555555555555556,
             "#d8576b"
            ],
            [
             0.6666666666666666,
             "#ed7953"
            ],
            [
             0.7777777777777778,
             "#fb9f3a"
            ],
            [
             0.8888888888888888,
             "#fdca26"
            ],
            [
             1,
             "#f0f921"
            ]
           ],
           "sequentialminus": [
            [
             0,
             "#0d0887"
            ],
            [
             0.1111111111111111,
             "#46039f"
            ],
            [
             0.2222222222222222,
             "#7201a8"
            ],
            [
             0.3333333333333333,
             "#9c179e"
            ],
            [
             0.4444444444444444,
             "#bd3786"
            ],
            [
             0.5555555555555556,
             "#d8576b"
            ],
            [
             0.6666666666666666,
             "#ed7953"
            ],
            [
             0.7777777777777778,
             "#fb9f3a"
            ],
            [
             0.8888888888888888,
             "#fdca26"
            ],
            [
             1,
             "#f0f921"
            ]
           ]
          },
          "colorway": [
           "#636efa",
           "#EF553B",
           "#00cc96",
           "#ab63fa",
           "#FFA15A",
           "#19d3f3",
           "#FF6692",
           "#B6E880",
           "#FF97FF",
           "#FECB52"
          ],
          "font": {
           "color": "#2a3f5f"
          },
          "geo": {
           "bgcolor": "white",
           "lakecolor": "white",
           "landcolor": "#E5ECF6",
           "showlakes": true,
           "showland": true,
           "subunitcolor": "white"
          },
          "hoverlabel": {
           "align": "left"
          },
          "hovermode": "closest",
          "mapbox": {
           "style": "light"
          },
          "paper_bgcolor": "white",
          "plot_bgcolor": "#E5ECF6",
          "polar": {
           "angularaxis": {
            "gridcolor": "white",
            "linecolor": "white",
            "ticks": ""
           },
           "bgcolor": "#E5ECF6",
           "radialaxis": {
            "gridcolor": "white",
            "linecolor": "white",
            "ticks": ""
           }
          },
          "scene": {
           "xaxis": {
            "backgroundcolor": "#E5ECF6",
            "gridcolor": "white",
            "gridwidth": 2,
            "linecolor": "white",
            "showbackground": true,
            "ticks": "",
            "zerolinecolor": "white"
           },
           "yaxis": {
            "backgroundcolor": "#E5ECF6",
            "gridcolor": "white",
            "gridwidth": 2,
            "linecolor": "white",
            "showbackground": true,
            "ticks": "",
            "zerolinecolor": "white"
           },
           "zaxis": {
            "backgroundcolor": "#E5ECF6",
            "gridcolor": "white",
            "gridwidth": 2,
            "linecolor": "white",
            "showbackground": true,
            "ticks": "",
            "zerolinecolor": "white"
           }
          },
          "shapedefaults": {
           "line": {
            "color": "#2a3f5f"
           }
          },
          "ternary": {
           "aaxis": {
            "gridcolor": "white",
            "linecolor": "white",
            "ticks": ""
           },
           "baxis": {
            "gridcolor": "white",
            "linecolor": "white",
            "ticks": ""
           },
           "bgcolor": "#E5ECF6",
           "caxis": {
            "gridcolor": "white",
            "linecolor": "white",
            "ticks": ""
           }
          },
          "title": {
           "x": 0.05
          },
          "xaxis": {
           "automargin": true,
           "gridcolor": "white",
           "linecolor": "white",
           "ticks": "",
           "title": {
            "standoff": 15
           },
           "zerolinecolor": "white",
           "zerolinewidth": 2
          },
          "yaxis": {
           "automargin": true,
           "gridcolor": "white",
           "linecolor": "white",
           "ticks": "",
           "title": {
            "standoff": 15
           },
           "zerolinecolor": "white",
           "zerolinewidth": 2
          }
         }
        },
        "title": {
         "text": "The profit over the total spends"
        },
        "xaxis": {
         "anchor": "y",
         "domain": [
          0,
          1
         ],
         "title": {
          "text": "r&d spend"
         }
        },
        "yaxis": {
         "anchor": "x",
         "domain": [
          0,
          1
         ],
         "title": {
          "text": "marketing spend"
         }
        }
       }
      }
     },
     "metadata": {},
     "output_type": "display_data"
    }
   ],
   "source": [
    "px.scatter(startups, x='r&d spend', y='marketing spend', color='profit', title='The profit over the total spends')"
   ]
  },
  {
   "cell_type": "markdown",
   "metadata": {},
   "source": [
    "The more they spend the more the profit will be"
   ]
  },
  {
   "cell_type": "code",
   "execution_count": 11,
   "metadata": {},
   "outputs": [
    {
     "data": {
      "image/png": "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",
      "text/plain": [
       "<Figure size 640x480 with 4 Axes>"
      ]
     },
     "metadata": {},
     "output_type": "display_data"
    }
   ],
   "source": [
    "startups.hist();"
   ]
  },
  {
   "cell_type": "markdown",
   "metadata": {},
   "source": [
    "# Creating train_test sets"
   ]
  },
  {
   "cell_type": "code",
   "execution_count": 12,
   "metadata": {},
   "outputs": [],
   "source": [
    "from sklearn.model_selection import train_test_split\n",
    "\n",
    "train_set, test_set = train_test_split(startups, test_size=0.3, random_state=42)"
   ]
  },
  {
   "cell_type": "code",
   "execution_count": 13,
   "metadata": {},
   "outputs": [
    {
     "data": {
      "text/plain": [
       "((35, 5), (15, 5))"
      ]
     },
     "execution_count": 13,
     "metadata": {},
     "output_type": "execute_result"
    }
   ],
   "source": [
    "train_set.shape, test_set.shape"
   ]
  },
  {
   "cell_type": "code",
   "execution_count": 14,
   "metadata": {},
   "outputs": [
    {
     "data": {
      "image/png": "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",
      "text/plain": [
       "<Figure size 640x480 with 4 Axes>"
      ]
     },
     "metadata": {},
     "output_type": "display_data"
    }
   ],
   "source": [
    "train_set.hist();"
   ]
  },
  {
   "cell_type": "code",
   "execution_count": 15,
   "metadata": {},
   "outputs": [
    {
     "data": {
      "image/png": "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",
      "text/plain": [
       "<Figure size 640x480 with 4 Axes>"
      ]
     },
     "metadata": {},
     "output_type": "display_data"
    }
   ],
   "source": [
    "test_set.hist();"
   ]
  },
  {
   "cell_type": "markdown",
   "metadata": {},
   "source": [
    "Why didn't they have the same shape?"
   ]
  },
  {
   "cell_type": "code",
   "execution_count": 16,
   "metadata": {},
   "outputs": [
    {
     "data": {
      "text/plain": [
       "(count        35.000000\n",
       " mean     111235.213143\n",
       " std       41454.898726\n",
       " min       14681.400000\n",
       " 25%       85968.625000\n",
       " 50%      108552.040000\n",
       " 75%      138431.025000\n",
       " max      192261.830000\n",
       " Name: profit, dtype: float64,\n",
       " count        15.000000\n",
       " mean     113826.633333\n",
       " std       38826.550945\n",
       " min       35673.410000\n",
       " 25%       93688.490000\n",
       " 50%      107404.340000\n",
       " 75%      137946.435000\n",
       " max      182901.990000\n",
       " Name: profit, dtype: float64)"
      ]
     },
     "execution_count": 16,
     "metadata": {},
     "output_type": "execute_result"
    }
   ],
   "source": [
    "train_set.profit.describe(), test_set.profit.describe()"
   ]
  },
  {
   "cell_type": "markdown",
   "metadata": {},
   "source": [
    "# EDA for train set"
   ]
  },
  {
   "cell_type": "code",
   "execution_count": 17,
   "metadata": {},
   "outputs": [
    {
     "data": {
      "text/html": [
       "<div>\n",
       "<style scoped>\n",
       "    .dataframe tbody tr th:only-of-type {\n",
       "        vertical-align: middle;\n",
       "    }\n",
       "\n",
       "    .dataframe tbody tr th {\n",
       "        vertical-align: top;\n",
       "    }\n",
       "\n",
       "    .dataframe thead th {\n",
       "        text-align: right;\n",
       "    }\n",
       "</style>\n",
       "<table border=\"1\" class=\"dataframe\">\n",
       "  <thead>\n",
       "    <tr style=\"text-align: right;\">\n",
       "      <th></th>\n",
       "      <th>r&amp;d spend</th>\n",
       "      <th>administration</th>\n",
       "      <th>marketing spend</th>\n",
       "      <th>profit</th>\n",
       "    </tr>\n",
       "  </thead>\n",
       "  <tbody>\n",
       "    <tr>\n",
       "      <th>r&amp;d spend</th>\n",
       "      <td>1.000000</td>\n",
       "      <td>0.162178</td>\n",
       "      <td>0.716977</td>\n",
       "      <td>0.970781</td>\n",
       "    </tr>\n",
       "    <tr>\n",
       "      <th>administration</th>\n",
       "      <td>0.162178</td>\n",
       "      <td>1.000000</td>\n",
       "      <td>-0.121431</td>\n",
       "      <td>0.084235</td>\n",
       "    </tr>\n",
       "    <tr>\n",
       "      <th>marketing spend</th>\n",
       "      <td>0.716977</td>\n",
       "      <td>-0.121431</td>\n",
       "      <td>1.000000</td>\n",
       "      <td>0.749346</td>\n",
       "    </tr>\n",
       "    <tr>\n",
       "      <th>profit</th>\n",
       "      <td>0.970781</td>\n",
       "      <td>0.084235</td>\n",
       "      <td>0.749346</td>\n",
       "      <td>1.000000</td>\n",
       "    </tr>\n",
       "  </tbody>\n",
       "</table>\n",
       "</div>"
      ],
      "text/plain": [
       "                 r&d spend  administration  marketing spend    profit\n",
       "r&d spend         1.000000        0.162178         0.716977  0.970781\n",
       "administration    0.162178        1.000000        -0.121431  0.084235\n",
       "marketing spend   0.716977       -0.121431         1.000000  0.749346\n",
       "profit            0.970781        0.084235         0.749346  1.000000"
      ]
     },
     "execution_count": 17,
     "metadata": {},
     "output_type": "execute_result"
    }
   ],
   "source": [
    "train_set.drop('state',axis=1).corr()"
   ]
  },
  {
   "cell_type": "code",
   "execution_count": 18,
   "metadata": {},
   "outputs": [
    {
     "data": {
      "text/plain": [
       "profit             1.000000\n",
       "r&d spend          0.970781\n",
       "marketing spend    0.749346\n",
       "administration     0.084235\n",
       "Name: profit, dtype: float64"
      ]
     },
     "execution_count": 18,
     "metadata": {},
     "output_type": "execute_result"
    }
   ],
   "source": [
    "train_set.drop('state',axis=1).corr()['profit'].sort_values(ascending= False)"
   ]
  },
  {
   "cell_type": "markdown",
   "metadata": {},
   "source": [
    "r&d spend is the most effictive atribute on the profit"
   ]
  },
  {
   "cell_type": "code",
   "execution_count": 19,
   "metadata": {},
   "outputs": [
    {
     "data": {
      "application/vnd.plotly.v1+json": {
       "config": {
        "plotlyServerURL": "https://plot.ly"
       },
       "data": [
        {
         "hovertemplate": "r&d spend=%{x}<br>profit=%{y}<extra></extra>",
         "legendgroup": "",
         "marker": {
          "color": "#636efa",
          "symbol": "circle"
         },
         "mode": "markers",
         "name": "",
         "orientation": "v",
         "showlegend": false,
         "type": "scatter",
         "x": [
          134615.46,
          27892.92,
          1315.46,
          0,
          114523.61,
          123334.88,
          78013.11,
          77044.01,
          46426.07,
          61136.38,
          165349.2,
          22177.74,
          72107.6,
          55493.95,
          131876.9,
          65605.48,
          100671.96,
          28663.76,
          162597.7,
          78389.47,
          153441.51,
          15505.73,
          46014.02,
          67532.53,
          28754.33,
          101913.08,
          73994.56,
          91749.16,
          0,
          76253.86,
          130298.13,
          23640.93,
          119943.24,
          66051.52,
          20229.59
         ],
         "xaxis": "x",
         "y": [
          156122.51,
          77798.83,
          49490.75,
          42559.73,
          129917.04,
          149759.96,
          126992.93,
          108552.04,
          96712.8,
          97483.56,
          192261.83,
          65200.33,
          105008.31,
          96778.92,
          156991.12,
          101004.64,
          144259.4,
          90708.19,
          191792.06,
          111313.02,
          191050.39,
          69758.98,
          96479.51,
          108733.99,
          78239.91,
          146121.95,
          110352.25,
          124266.9,
          14681.4,
          118474.03,
          155752.6,
          71498.49,
          132602.65,
          103282.38,
          81229.06
         ],
         "yaxis": "y"
        }
       ],
       "layout": {
        "legend": {
         "tracegroupgap": 0
        },
        "template": {
         "data": {
          "bar": [
           {
            "error_x": {
             "color": "#2a3f5f"
            },
            "error_y": {
             "color": "#2a3f5f"
            },
            "marker": {
             "line": {
              "color": "#E5ECF6",
              "width": 0.5
             },
             "pattern": {
              "fillmode": "overlay",
              "size": 10,
              "solidity": 0.2
             }
            },
            "type": "bar"
           }
          ],
          "barpolar": [
           {
            "marker": {
             "line": {
              "color": "#E5ECF6",
              "width": 0.5
             },
             "pattern": {
              "fillmode": "overlay",
              "size": 10,
              "solidity": 0.2
             }
            },
            "type": "barpolar"
           }
          ],
          "carpet": [
           {
            "aaxis": {
             "endlinecolor": "#2a3f5f",
             "gridcolor": "white",
             "linecolor": "white",
             "minorgridcolor": "white",
             "startlinecolor": "#2a3f5f"
            },
            "baxis": {
             "endlinecolor": "#2a3f5f",
             "gridcolor": "white",
             "linecolor": "white",
             "minorgridcolor": "white",
             "startlinecolor": "#2a3f5f"
            },
            "type": "carpet"
           }
          ],
          "choropleth": [
           {
            "colorbar": {
             "outlinewidth": 0,
             "ticks": ""
            },
            "type": "choropleth"
           }
          ],
          "contour": [
           {
            "colorbar": {
             "outlinewidth": 0,
             "ticks": ""
            },
            "colorscale": [
             [
              0,
              "#0d0887"
             ],
             [
              0.1111111111111111,
              "#46039f"
             ],
             [
              0.2222222222222222,
              "#7201a8"
             ],
             [
              0.3333333333333333,
              "#9c179e"
             ],
             [
              0.4444444444444444,
              "#bd3786"
             ],
             [
              0.5555555555555556,
              "#d8576b"
             ],
             [
              0.6666666666666666,
              "#ed7953"
             ],
             [
              0.7777777777777778,
              "#fb9f3a"
             ],
             [
              0.8888888888888888,
              "#fdca26"
             ],
             [
              1,
              "#f0f921"
             ]
            ],
            "type": "contour"
           }
          ],
          "contourcarpet": [
           {
            "colorbar": {
             "outlinewidth": 0,
             "ticks": ""
            },
            "type": "contourcarpet"
           }
          ],
          "heatmap": [
           {
            "colorbar": {
             "outlinewidth": 0,
             "ticks": ""
            },
            "colorscale": [
             [
              0,
              "#0d0887"
             ],
             [
              0.1111111111111111,
              "#46039f"
             ],
             [
              0.2222222222222222,
              "#7201a8"
             ],
             [
              0.3333333333333333,
              "#9c179e"
             ],
             [
              0.4444444444444444,
              "#bd3786"
             ],
             [
              0.5555555555555556,
              "#d8576b"
             ],
             [
              0.6666666666666666,
              "#ed7953"
             ],
             [
              0.7777777777777778,
              "#fb9f3a"
             ],
             [
              0.8888888888888888,
              "#fdca26"
             ],
             [
              1,
              "#f0f921"
             ]
            ],
            "type": "heatmap"
           }
          ],
          "heatmapgl": [
           {
            "colorbar": {
             "outlinewidth": 0,
             "ticks": ""
            },
            "colorscale": [
             [
              0,
              "#0d0887"
             ],
             [
              0.1111111111111111,
              "#46039f"
             ],
             [
              0.2222222222222222,
              "#7201a8"
             ],
             [
              0.3333333333333333,
              "#9c179e"
             ],
             [
              0.4444444444444444,
              "#bd3786"
             ],
             [
              0.5555555555555556,
              "#d8576b"
             ],
             [
              0.6666666666666666,
              "#ed7953"
             ],
             [
              0.7777777777777778,
              "#fb9f3a"
             ],
             [
              0.8888888888888888,
              "#fdca26"
             ],
             [
              1,
              "#f0f921"
             ]
            ],
            "type": "heatmapgl"
           }
          ],
          "histogram": [
           {
            "marker": {
             "pattern": {
              "fillmode": "overlay",
              "size": 10,
              "solidity": 0.2
             }
            },
            "type": "histogram"
           }
          ],
          "histogram2d": [
           {
            "colorbar": {
             "outlinewidth": 0,
             "ticks": ""
            },
            "colorscale": [
             [
              0,
              "#0d0887"
             ],
             [
              0.1111111111111111,
              "#46039f"
             ],
             [
              0.2222222222222222,
              "#7201a8"
             ],
             [
              0.3333333333333333,
              "#9c179e"
             ],
             [
              0.4444444444444444,
              "#bd3786"
             ],
             [
              0.5555555555555556,
              "#d8576b"
             ],
             [
              0.6666666666666666,
              "#ed7953"
             ],
             [
              0.7777777777777778,
              "#fb9f3a"
             ],
             [
              0.8888888888888888,
              "#fdca26"
             ],
             [
              1,
              "#f0f921"
             ]
            ],
            "type": "histogram2d"
           }
          ],
          "histogram2dcontour": [
           {
            "colorbar": {
             "outlinewidth": 0,
             "ticks": ""
            },
            "colorscale": [
             [
              0,
              "#0d0887"
             ],
             [
              0.1111111111111111,
              "#46039f"
             ],
             [
              0.2222222222222222,
              "#7201a8"
             ],
             [
              0.3333333333333333,
              "#9c179e"
             ],
             [
              0.4444444444444444,
              "#bd3786"
             ],
             [
              0.5555555555555556,
              "#d8576b"
             ],
             [
              0.6666666666666666,
              "#ed7953"
             ],
             [
              0.7777777777777778,
              "#fb9f3a"
             ],
             [
              0.8888888888888888,
              "#fdca26"
             ],
             [
              1,
              "#f0f921"
             ]
            ],
            "type": "histogram2dcontour"
           }
          ],
          "mesh3d": [
           {
            "colorbar": {
             "outlinewidth": 0,
             "ticks": ""
            },
            "type": "mesh3d"
           }
          ],
          "parcoords": [
           {
            "line": {
             "colorbar": {
              "outlinewidth": 0,
              "ticks": ""
             }
            },
            "type": "parcoords"
           }
          ],
          "pie": [
           {
            "automargin": true,
            "type": "pie"
           }
          ],
          "scatter": [
           {
            "fillpattern": {
             "fillmode": "overlay",
             "size": 10,
             "solidity": 0.2
            },
            "type": "scatter"
           }
          ],
          "scatter3d": [
           {
            "line": {
             "colorbar": {
              "outlinewidth": 0,
              "ticks": ""
             }
            },
            "marker": {
             "colorbar": {
              "outlinewidth": 0,
              "ticks": ""
             }
            },
            "type": "scatter3d"
           }
          ],
          "scattercarpet": [
           {
            "marker": {
             "colorbar": {
              "outlinewidth": 0,
              "ticks": ""
             }
            },
            "type": "scattercarpet"
           }
          ],
          "scattergeo": [
           {
            "marker": {
             "colorbar": {
              "outlinewidth": 0,
              "ticks": ""
             }
            },
            "type": "scattergeo"
           }
          ],
          "scattergl": [
           {
            "marker": {
             "colorbar": {
              "outlinewidth": 0,
              "ticks": ""
             }
            },
            "type": "scattergl"
           }
          ],
          "scattermapbox": [
           {
            "marker": {
             "colorbar": {
              "outlinewidth": 0,
              "ticks": ""
             }
            },
            "type": "scattermapbox"
           }
          ],
          "scatterpolar": [
           {
            "marker": {
             "colorbar": {
              "outlinewidth": 0,
              "ticks": ""
             }
            },
            "type": "scatterpolar"
           }
          ],
          "scatterpolargl": [
           {
            "marker": {
             "colorbar": {
              "outlinewidth": 0,
              "ticks": ""
             }
            },
            "type": "scatterpolargl"
           }
          ],
          "scatterternary": [
           {
            "marker": {
             "colorbar": {
              "outlinewidth": 0,
              "ticks": ""
             }
            },
            "type": "scatterternary"
           }
          ],
          "surface": [
           {
            "colorbar": {
             "outlinewidth": 0,
             "ticks": ""
            },
            "colorscale": [
             [
              0,
              "#0d0887"
             ],
             [
              0.1111111111111111,
              "#46039f"
             ],
             [
              0.2222222222222222,
              "#7201a8"
             ],
             [
              0.3333333333333333,
              "#9c179e"
             ],
             [
              0.4444444444444444,
              "#bd3786"
             ],
             [
              0.5555555555555556,
              "#d8576b"
             ],
             [
              0.6666666666666666,
              "#ed7953"
             ],
             [
              0.7777777777777778,
              "#fb9f3a"
             ],
             [
              0.8888888888888888,
              "#fdca26"
             ],
             [
              1,
              "#f0f921"
             ]
            ],
            "type": "surface"
           }
          ],
          "table": [
           {
            "cells": {
             "fill": {
              "color": "#EBF0F8"
             },
             "line": {
              "color": "white"
             }
            },
            "header": {
             "fill": {
              "color": "#C8D4E3"
             },
             "line": {
              "color": "white"
             }
            },
            "type": "table"
           }
          ]
         },
         "layout": {
          "annotationdefaults": {
           "arrowcolor": "#2a3f5f",
           "arrowhead": 0,
           "arrowwidth": 1
          },
          "autotypenumbers": "strict",
          "coloraxis": {
           "colorbar": {
            "outlinewidth": 0,
            "ticks": ""
           }
          },
          "colorscale": {
           "diverging": [
            [
             0,
             "#8e0152"
            ],
            [
             0.1,
             "#c51b7d"
            ],
            [
             0.2,
             "#de77ae"
            ],
            [
             0.3,
             "#f1b6da"
            ],
            [
             0.4,
             "#fde0ef"
            ],
            [
             0.5,
             "#f7f7f7"
            ],
            [
             0.6,
             "#e6f5d0"
            ],
            [
             0.7,
             "#b8e186"
            ],
            [
             0.8,
             "#7fbc41"
            ],
            [
             0.9,
             "#4d9221"
            ],
            [
             1,
             "#276419"
            ]
           ],
           "sequential": [
            [
             0,
             "#0d0887"
            ],
            [
             0.1111111111111111,
             "#46039f"
            ],
            [
             0.2222222222222222,
             "#7201a8"
            ],
            [
             0.3333333333333333,
             "#9c179e"
            ],
            [
             0.4444444444444444,
             "#bd3786"
            ],
            [
             0.5555555555555556,
             "#d8576b"
            ],
            [
             0.6666666666666666,
             "#ed7953"
            ],
            [
             0.7777777777777778,
             "#fb9f3a"
            ],
            [
             0.8888888888888888,
             "#fdca26"
            ],
            [
             1,
             "#f0f921"
            ]
           ],
           "sequentialminus": [
            [
             0,
             "#0d0887"
            ],
            [
             0.1111111111111111,
             "#46039f"
            ],
            [
             0.2222222222222222,
             "#7201a8"
            ],
            [
             0.3333333333333333,
             "#9c179e"
            ],
            [
             0.4444444444444444,
             "#bd3786"
            ],
            [
             0.5555555555555556,
             "#d8576b"
            ],
            [
             0.6666666666666666,
             "#ed7953"
            ],
            [
             0.7777777777777778,
             "#fb9f3a"
            ],
            [
             0.8888888888888888,
             "#fdca26"
            ],
            [
             1,
             "#f0f921"
            ]
           ]
          },
          "colorway": [
           "#636efa",
           "#EF553B",
           "#00cc96",
           "#ab63fa",
           "#FFA15A",
           "#19d3f3",
           "#FF6692",
           "#B6E880",
           "#FF97FF",
           "#FECB52"
          ],
          "font": {
           "color": "#2a3f5f"
          },
          "geo": {
           "bgcolor": "white",
           "lakecolor": "white",
           "landcolor": "#E5ECF6",
           "showlakes": true,
           "showland": true,
           "subunitcolor": "white"
          },
          "hoverlabel": {
           "align": "left"
          },
          "hovermode": "closest",
          "mapbox": {
           "style": "light"
          },
          "paper_bgcolor": "white",
          "plot_bgcolor": "#E5ECF6",
          "polar": {
           "angularaxis": {
            "gridcolor": "white",
            "linecolor": "white",
            "ticks": ""
           },
           "bgcolor": "#E5ECF6",
           "radialaxis": {
            "gridcolor": "white",
            "linecolor": "white",
            "ticks": ""
           }
          },
          "scene": {
           "xaxis": {
            "backgroundcolor": "#E5ECF6",
            "gridcolor": "white",
            "gridwidth": 2,
            "linecolor": "white",
            "showbackground": true,
            "ticks": "",
            "zerolinecolor": "white"
           },
           "yaxis": {
            "backgroundcolor": "#E5ECF6",
            "gridcolor": "white",
            "gridwidth": 2,
            "linecolor": "white",
            "showbackground": true,
            "ticks": "",
            "zerolinecolor": "white"
           },
           "zaxis": {
            "backgroundcolor": "#E5ECF6",
            "gridcolor": "white",
            "gridwidth": 2,
            "linecolor": "white",
            "showbackground": true,
            "ticks": "",
            "zerolinecolor": "white"
           }
          },
          "shapedefaults": {
           "line": {
            "color": "#2a3f5f"
           }
          },
          "ternary": {
           "aaxis": {
            "gridcolor": "white",
            "linecolor": "white",
            "ticks": ""
           },
           "baxis": {
            "gridcolor": "white",
            "linecolor": "white",
            "ticks": ""
           },
           "bgcolor": "#E5ECF6",
           "caxis": {
            "gridcolor": "white",
            "linecolor": "white",
            "ticks": ""
           }
          },
          "title": {
           "x": 0.05
          },
          "xaxis": {
           "automargin": true,
           "gridcolor": "white",
           "linecolor": "white",
           "ticks": "",
           "title": {
            "standoff": 15
           },
           "zerolinecolor": "white",
           "zerolinewidth": 2
          },
          "yaxis": {
           "automargin": true,
           "gridcolor": "white",
           "linecolor": "white",
           "ticks": "",
           "title": {
            "standoff": 15
           },
           "zerolinecolor": "white",
           "zerolinewidth": 2
          }
         }
        },
        "title": {
         "text": "profits acc to spends"
        },
        "xaxis": {
         "anchor": "y",
         "domain": [
          0,
          1
         ],
         "title": {
          "text": "r&d spend"
         }
        },
        "yaxis": {
         "anchor": "x",
         "domain": [
          0,
          1
         ],
         "title": {
          "text": "profit"
         }
        }
       }
      }
     },
     "metadata": {},
     "output_type": "display_data"
    }
   ],
   "source": [
    "px.scatter(train_set, x='r&d spend', y='profit', title='profits acc to spends')"
   ]
  },
  {
   "cell_type": "markdown",
   "metadata": {},
   "source": [
    "# Feature Engineering"
   ]
  },
  {
   "cell_type": "code",
   "execution_count": 20,
   "metadata": {},
   "outputs": [
    {
     "data": {
      "text/html": [
       "<div>\n",
       "<style scoped>\n",
       "    .dataframe tbody tr th:only-of-type {\n",
       "        vertical-align: middle;\n",
       "    }\n",
       "\n",
       "    .dataframe tbody tr th {\n",
       "        vertical-align: top;\n",
       "    }\n",
       "\n",
       "    .dataframe thead th {\n",
       "        text-align: right;\n",
       "    }\n",
       "</style>\n",
       "<table border=\"1\" class=\"dataframe\">\n",
       "  <thead>\n",
       "    <tr style=\"text-align: right;\">\n",
       "      <th></th>\n",
       "      <th>r&amp;d spend</th>\n",
       "      <th>administration</th>\n",
       "      <th>marketing spend</th>\n",
       "      <th>state</th>\n",
       "      <th>profit</th>\n",
       "      <th>tot_spends</th>\n",
       "    </tr>\n",
       "  </thead>\n",
       "  <tbody>\n",
       "    <tr>\n",
       "      <th>35</th>\n",
       "      <td>46014.02</td>\n",
       "      <td>85047.44</td>\n",
       "      <td>205517.64</td>\n",
       "      <td>New York</td>\n",
       "      <td>96479.51</td>\n",
       "      <td>251531.66</td>\n",
       "    </tr>\n",
       "  </tbody>\n",
       "</table>\n",
       "</div>"
      ],
      "text/plain": [
       "    r&d spend  administration  marketing spend     state    profit  tot_spends\n",
       "35   46014.02        85047.44        205517.64  New York  96479.51   251531.66"
      ]
     },
     "execution_count": 20,
     "metadata": {},
     "output_type": "execute_result"
    }
   ],
   "source": [
    "# Total spends\n",
    "train_set['tot_spends']=train_set['r&d spend']+train_set['marketing spend']\n",
    "train_set.sample()"
   ]
  },
  {
   "cell_type": "code",
   "execution_count": 21,
   "metadata": {},
   "outputs": [
    {
     "data": {
      "text/plain": [
       "profit             1.000000\n",
       "r&d spend          0.970781\n",
       "tot_spends         0.865250\n",
       "marketing spend    0.749346\n",
       "administration     0.084235\n",
       "Name: profit, dtype: float64"
      ]
     },
     "execution_count": 21,
     "metadata": {},
     "output_type": "execute_result"
    }
   ],
   "source": [
    "train_set.drop('state',axis=1).corr()['profit'].sort_values(ascending= False)"
   ]
  },
  {
   "cell_type": "markdown",
   "metadata": {},
   "source": [
    "not that much effective, as the r&d spend is still more effective, so I'll ignore it"
   ]
  },
  {
   "cell_type": "code",
   "execution_count": 22,
   "metadata": {},
   "outputs": [
    {
     "data": {
      "text/html": [
       "<div>\n",
       "<style scoped>\n",
       "    .dataframe tbody tr th:only-of-type {\n",
       "        vertical-align: middle;\n",
       "    }\n",
       "\n",
       "    .dataframe tbody tr th {\n",
       "        vertical-align: top;\n",
       "    }\n",
       "\n",
       "    .dataframe thead th {\n",
       "        text-align: right;\n",
       "    }\n",
       "</style>\n",
       "<table border=\"1\" class=\"dataframe\">\n",
       "  <thead>\n",
       "    <tr style=\"text-align: right;\">\n",
       "      <th></th>\n",
       "      <th>r&amp;d spend</th>\n",
       "      <th>administration</th>\n",
       "      <th>marketing spend</th>\n",
       "      <th>state</th>\n",
       "      <th>profit</th>\n",
       "    </tr>\n",
       "  </thead>\n",
       "  <tbody>\n",
       "    <tr>\n",
       "      <th>36</th>\n",
       "      <td>28663.76</td>\n",
       "      <td>127056.21</td>\n",
       "      <td>201126.82</td>\n",
       "      <td>Florida</td>\n",
       "      <td>90708.19</td>\n",
       "    </tr>\n",
       "  </tbody>\n",
       "</table>\n",
       "</div>"
      ],
      "text/plain": [
       "    r&d spend  administration  marketing spend    state    profit\n",
       "36   28663.76       127056.21        201126.82  Florida  90708.19"
      ]
     },
     "execution_count": 22,
     "metadata": {},
     "output_type": "execute_result"
    }
   ],
   "source": [
    "train_set.drop('tot_spends',axis=1,inplace=True)\n",
    "train_set.sample()"
   ]
  },
  {
   "cell_type": "markdown",
   "metadata": {},
   "source": [
    "# Features and labels"
   ]
  },
  {
   "cell_type": "code",
   "execution_count": 23,
   "metadata": {},
   "outputs": [],
   "source": [
    "train_features = train_set.drop('profit', axis=1)\n",
    "train_labels = train_set['profit'].copy()"
   ]
  },
  {
   "cell_type": "markdown",
   "metadata": {},
   "source": [
    "# Pipelining"
   ]
  },
  {
   "cell_type": "code",
   "execution_count": 24,
   "metadata": {},
   "outputs": [],
   "source": [
    "from sklearn.impute import SimpleImputer\n",
    "from sklearn.preprocessing import StandardScaler\n",
    "from sklearn.preprocessing import OneHotEncoder\n",
    "from sklearn.pipeline import Pipeline\n",
    "\n",
    "startups_num = train_features.drop('state', axis=1)\n",
    "startups_cat = train_features['state'].copy()\n",
    "\n",
    "num_pipeline = Pipeline([ ('imputer', SimpleImputer(strategy='mean')),\n",
    "                         ('std_scaler', StandardScaler())\n",
    "                        ])"
   ]
  },
  {
   "cell_type": "code",
   "execution_count": 25,
   "metadata": {},
   "outputs": [],
   "source": [
    "# combining categorical and numerical pipelines\n",
    "from sklearn.compose import ColumnTransformer\n",
    "\n",
    "num_attributes = list(startups_num)\n",
    "cat_attributes = ['state']\n",
    "\n",
    "full_pipeline = ColumnTransformer([ ('num', num_pipeline, num_attributes),\n",
    "                                   ('cat', OneHotEncoder(sparse=False, drop='first'), cat_attributes)\n",
    "                                ])"
   ]
  },
  {
   "cell_type": "code",
   "execution_count": 26,
   "metadata": {},
   "outputs": [
    {
     "name": "stderr",
     "output_type": "stream",
     "text": [
      "C:\\Users\\DELL\\AppData\\Roaming\\Python\\Python311\\site-packages\\sklearn\\preprocessing\\_encoders.py:975: FutureWarning:\n",
      "\n",
      "`sparse` was renamed to `sparse_output` in version 1.2 and will be removed in 1.4. `sparse_output` is ignored unless you leave `sparse` to its default value.\n",
      "\n"
     ]
    },
    {
     "data": {
      "text/plain": [
       "array([[ 1.30948713,  0.94663711, -0.85542942,  0.        ,  0.        ],\n",
       "       [-0.96661844, -1.50749007, -0.53664892,  1.        ,  0.        ],\n",
       "       [-1.53344439, -0.28587018,  0.61382091,  1.        ,  0.        ],\n",
       "       [-1.56149962,  0.48431128, -1.96316611,  0.        ,  0.        ],\n",
       "       [ 0.88098185, -0.01878555,  0.30731897,  0.        ,  1.        ],\n",
       "       [ 1.06890261, -0.56616681,  0.68205579,  0.        ,  0.        ],\n",
       "       [ 0.1023108 , -0.05881665,  0.32960808,  0.        ,  0.        ],\n",
       "       [ 0.0816425 , -0.9352526 , -0.74390717,  0.        ,  1.        ],\n",
       "       [-0.57135605,  1.35881459, -0.13483753,  0.        ,  0.        ],\n",
       "       [-0.25762459,  1.16276121, -1.19801576,  0.        ,  1.        ],\n",
       "       [ 1.96495539,  0.54207791,  2.12879731,  0.        ,  1.        ],\n",
       "       [-1.0885079 ,  1.24540132, -1.71740828,  0.        ,  0.        ],\n",
       "       [-0.02363789,  0.18731045,  1.10013177,  0.        ,  1.        ],\n",
       "       [-0.37796249, -0.78694993, -0.10155655,  1.        ,  0.        ],\n",
       "       [ 1.25108099, -0.91430529,  1.18406885,  0.        ,  1.        ],\n",
       "       [-0.16231067,  1.17572697, -1.03391408,  0.        ,  1.        ],\n",
       "       [ 0.58556331, -1.22943988,  0.20296362,  0.        ,  0.        ],\n",
       "       [-0.95017849,  0.1555641 , -0.2187165 ,  1.        ,  0.        ],\n",
       "       [ 1.90627327,  1.11075012,  1.88693513,  0.        ,  0.        ],\n",
       "       [ 0.11033755,  1.20484317,  0.63656972,  0.        ,  1.        ],\n",
       "       [ 1.71099629, -0.86203853,  1.57500573,  1.        ,  0.        ],\n",
       "       [-1.23080398,  0.1683708 , -1.6549647 ,  0.        ,  1.        ],\n",
       "       [-0.58014397, -1.49426785, -0.18063324,  0.        ,  1.        ],\n",
       "       [-0.12121186, -0.68116515,  0.68020932,  1.        ,  0.        ],\n",
       "       [-0.94824687, -0.17865978, -0.46444337,  0.        ,  0.        ],\n",
       "       [ 0.61203307, -0.49096039,  0.0244342 ,  1.        ,  0.        ],\n",
       "       [ 0.01660591, -0.01226968,  0.66763751,  1.        ,  0.        ],\n",
       "       [ 0.39526391, -0.35029524,  0.59478379,  1.        ,  0.        ],\n",
       "       [-1.56149962, -0.24001482, -1.57136293,  0.        ,  0.        ],\n",
       "       [ 0.06479072, -0.36241072,  0.62726474,  0.        ,  0.        ],\n",
       "       [ 1.21741006,  0.88109708,  0.84593985,  1.        ,  0.        ],\n",
       "       [-1.05730198, -1.05667492, -0.67949604,  0.        ,  0.        ],\n",
       "       [ 0.99656803,  1.3137875 ,  0.26166827,  1.        ,  0.        ],\n",
       "       [-0.15279783,  2.33875313, -0.93842171,  1.        ,  0.        ],\n",
       "       [-1.13005672, -2.2443727 , -0.35629124,  0.        ,  1.        ]])"
      ]
     },
     "execution_count": 26,
     "metadata": {},
     "output_type": "execute_result"
    }
   ],
   "source": [
    "train_features_prepared = full_pipeline.fit_transform(train_features)\n",
    "train_features_prepared"
   ]
  },
  {
   "cell_type": "code",
   "execution_count": 27,
   "metadata": {},
   "outputs": [
    {
     "data": {
      "text/plain": [
       "(35, 5)"
      ]
     },
     "execution_count": 27,
     "metadata": {},
     "output_type": "execute_result"
    }
   ],
   "source": [
    "train_features_prepared.shape"
   ]
  },
  {
   "cell_type": "markdown",
   "metadata": {},
   "source": [
    "since there is no null cells so it could have been like this:"
   ]
  },
  {
   "cell_type": "markdown",
   "metadata": {},
   "source": [
    "#combining categorical and numerical pipelines                                     \n",
    "  from sklearn.compose import ColumnTransformer\n",
    "\n",
    "  num_attributes = list(startups_num)\n",
    "  cat_attributes = ['state']\n",
    "\n",
    "  full_pipeline = ColumnTransformer([ ('num', StandardScaler(), num_attributes),\n",
    "                                   ('cat', OneHotEncoder(sparse=False, drop='first'), cat_attributes)\n",
    "                                ])"
   ]
  },
  {
   "cell_type": "markdown",
   "metadata": {},
   "source": [
    "# Selecting and training the mode"
   ]
  },
  {
   "cell_type": "markdown",
   "metadata": {},
   "source": [
    "Linear Regression"
   ]
  },
  {
   "cell_type": "code",
   "execution_count": 28,
   "metadata": {},
   "outputs": [],
   "source": [
    "from sklearn.linear_model import LinearRegression\n",
    "\n",
    "lin_reg = LinearRegression()\n",
    "lin_reg.fit(train_features_prepared, train_labels)\n",
    "\n",
    "lin_reg_prediction = lin_reg.predict(train_features_prepared)"
   ]
  },
  {
   "cell_type": "markdown",
   "metadata": {},
   "source": [
    "Decision Tree"
   ]
  },
  {
   "cell_type": "code",
   "execution_count": 29,
   "metadata": {},
   "outputs": [],
   "source": [
    "from sklearn.tree import DecisionTreeRegressor\n",
    "\n",
    "tree = DecisionTreeRegressor()\n",
    "tree.fit(train_features_prepared, train_labels)\n",
    "\n",
    "tree_prediction = tree.predict(train_features_prepared)"
   ]
  },
  {
   "cell_type": "markdown",
   "metadata": {},
   "source": [
    "Training Accuracy"
   ]
  },
  {
   "cell_type": "code",
   "execution_count": 30,
   "metadata": {},
   "outputs": [
    {
     "name": "stdout",
     "output_type": "stream",
     "text": [
      "Linear Regression acc: 0.9511471170962384\n",
      "Decision Tree acc: 1.0\n"
     ]
    }
   ],
   "source": [
    "from sklearn.metrics import r2_score\n",
    "\n",
    "print('Linear Regression acc:', r2_score(train_labels, lin_reg_prediction))\n",
    "print('Decision Tree acc:', r2_score(train_labels, tree_prediction))"
   ]
  },
  {
   "cell_type": "markdown",
   "metadata": {},
   "source": [
    "The Decision Tree is overfitting"
   ]
  },
  {
   "cell_type": "markdown",
   "metadata": {},
   "source": [
    "# Cross Validation"
   ]
  },
  {
   "cell_type": "code",
   "execution_count": 31,
   "metadata": {},
   "outputs": [
    {
     "name": "stdout",
     "output_type": "stream",
     "text": [
      "Linear Regression Accuracy on train data: [0.98044712 0.35326592 0.96973358 0.92168679 0.92878431 0.95824172\n",
      " 0.93782305 0.77803288 0.99591055 0.54547391]\n",
      "Linear Regression Accuracy Mean: 0.84\n",
      "Linear Regression Standard Deviation: 0.21\n"
     ]
    }
   ],
   "source": [
    "# Cross vaidation for Linear Regression\n",
    "from sklearn.model_selection import cross_val_score\n",
    "\n",
    "lin_reg_scores = cross_val_score(lin_reg, train_features_prepared, train_labels, scoring='r2', cv=10)\n",
    "\n",
    "print('Linear Regression Accuracy on train data:', lin_reg_scores)\n",
    "print('Linear Regression Accuracy Mean:', round(lin_reg_scores.mean(),2))\n",
    "print('Linear Regression Standard Deviation:', round(lin_reg_scores.std(),2))"
   ]
  },
  {
   "cell_type": "code",
   "execution_count": 32,
   "metadata": {},
   "outputs": [
    {
     "name": "stdout",
     "output_type": "stream",
     "text": [
      "Decision Tree Accuracy on train data: [0.75015017 0.00114221 0.99631837 0.9607931  0.90927713 0.99736728\n",
      " 0.84769706 0.83065837 0.94679198 0.76564125]\n",
      "Decision Tree Accuracy Mean: 0.8\n",
      "Decision Tree Standard Deviation: 0.28\n"
     ]
    }
   ],
   "source": [
    "# Cross validation for Decision Tree\n",
    "tree_scores = cross_val_score(tree, train_features_prepared, train_labels, scoring='r2', cv=10)\n",
    "\n",
    "print('Decision Tree Accuracy on train data:', tree_scores)\n",
    "print('Decision Tree Accuracy Mean:', round(tree_scores.mean(),2))\n",
    "print('Decision Tree Standard Deviation:', round(tree_scores.std(),2))"
   ]
  },
  {
   "cell_type": "markdown",
   "metadata": {},
   "source": [
    "Not overfitted"
   ]
  },
  {
   "cell_type": "markdown",
   "metadata": {},
   "source": [
    "# Fine Tunning"
   ]
  },
  {
   "cell_type": "markdown",
   "metadata": {},
   "source": [
    "For the Decision Tree only"
   ]
  },
  {
   "cell_type": "code",
   "execution_count": 33,
   "metadata": {},
   "outputs": [
    {
     "data": {
      "text/plain": [
       "{'max_depth': 5, 'max_features': 6}"
      ]
     },
     "execution_count": 33,
     "metadata": {},
     "output_type": "execute_result"
    }
   ],
   "source": [
    "from sklearn.model_selection import GridSearchCV\n",
    "\n",
    "param_grid = {'max_depth': [2,3,4,5], 'max_features': [2,4,6,8]}\n",
    "grid_search = GridSearchCV(tree, param_grid, cv=10, scoring='r2')\n",
    "grid_search.fit(train_features_prepared,train_labels)\n",
    "best_paras = grid_search.best_params_\n",
    "best_paras"
   ]
  },
  {
   "cell_type": "code",
   "execution_count": 34,
   "metadata": {},
   "outputs": [],
   "source": [
    "tree5 = DecisionTreeRegressor(max_depth=5, max_features=8)\n",
    "tree5.fit(train_features_prepared, train_labels)\n",
    "tree5_prediction = tree5.predict(train_features_prepared)"
   ]
  },
  {
   "cell_type": "markdown",
   "metadata": {},
   "source": [
    "# Testing Accuracy"
   ]
  },
  {
   "cell_type": "code",
   "execution_count": 35,
   "metadata": {},
   "outputs": [],
   "source": [
    "# Splitting the test data into features and labels\n",
    "test_features = test_set.drop('profit', axis=1)\n",
    "test_labels = test_set['profit'].copy()"
   ]
  },
  {
   "cell_type": "code",
   "execution_count": 36,
   "metadata": {},
   "outputs": [
    {
     "name": "stdout",
     "output_type": "stream",
     "text": [
      "Linear Regression Accuracy on test data:  0.9397108063355788\n",
      "Decision Tree Accuracy on test data:  0.7241128952639067\n"
     ]
    }
   ],
   "source": [
    "# Pipelining\n",
    "test_features_prepared = full_pipeline.transform(test_features)\n",
    "\n",
    "lin_reg_prediction_test = lin_reg.predict(test_features_prepared)\n",
    "tree5_prediction_test = tree5.predict(test_features_prepared)\n",
    "\n",
    "print(\"Linear Regression Accuracy on test data: \", r2_score(test_labels, lin_reg_prediction_test))\n",
    "print(\"Decision Tree Accuracy on test data: \", r2_score(test_labels, tree5_prediction_test))"
   ]
  },
  {
   "cell_type": "code",
   "execution_count": 37,
   "metadata": {},
   "outputs": [
    {
     "data": {
      "text/html": [
       "<div>\n",
       "<style scoped>\n",
       "    .dataframe tbody tr th:only-of-type {\n",
       "        vertical-align: middle;\n",
       "    }\n",
       "\n",
       "    .dataframe tbody tr th {\n",
       "        vertical-align: top;\n",
       "    }\n",
       "\n",
       "    .dataframe thead th {\n",
       "        text-align: right;\n",
       "    }\n",
       "</style>\n",
       "<table border=\"1\" class=\"dataframe\">\n",
       "  <thead>\n",
       "    <tr style=\"text-align: right;\">\n",
       "      <th></th>\n",
       "      <th>Linear Regression</th>\n",
       "      <th>Decision Tree</th>\n",
       "    </tr>\n",
       "  </thead>\n",
       "  <tbody>\n",
       "    <tr>\n",
       "      <th>Training Accuracy</th>\n",
       "      <td>0.951147</td>\n",
       "      <td>0.999178</td>\n",
       "    </tr>\n",
       "    <tr>\n",
       "      <th>Testing Accuracy</th>\n",
       "      <td>0.939711</td>\n",
       "      <td>0.724113</td>\n",
       "    </tr>\n",
       "  </tbody>\n",
       "</table>\n",
       "</div>"
      ],
      "text/plain": [
       "                   Linear Regression  Decision Tree\n",
       "Training Accuracy           0.951147       0.999178\n",
       "Testing Accuracy            0.939711       0.724113"
      ]
     },
     "execution_count": 37,
     "metadata": {},
     "output_type": "execute_result"
    }
   ],
   "source": [
    "pd.DataFrame({ \"Linear Regression\": [r2_score(train_labels, lin_reg_prediction), r2_score(test_labels, lin_reg_prediction_test)],\n",
    "                \"Decision Tree\": [r2_score(train_labels, tree5_prediction), r2_score(test_labels, tree5_prediction_test)]},\n",
    "                index=[\"Training Accuracy\", \"Testing Accuracy\"])"
   ]
  },
  {
   "cell_type": "markdown",
   "metadata": {},
   "source": [
    "So the linear regression model is prefered"
   ]
  },
  {
   "cell_type": "markdown",
   "metadata": {},
   "source": [
    "# Saving"
   ]
  },
  {
   "cell_type": "code",
   "execution_count": 40,
   "metadata": {},
   "outputs": [
    {
     "data": {
      "text/plain": [
       "['lin_reg.pkl']"
      ]
     },
     "execution_count": 40,
     "metadata": {},
     "output_type": "execute_result"
    }
   ],
   "source": [
    "# Saving the model\n",
    "import joblib\n",
    "\n",
    "joblib.dump(lin_reg, 'lin_reg.pkl')"
   ]
  },
  {
   "cell_type": "code",
   "execution_count": 41,
   "metadata": {},
   "outputs": [
    {
     "data": {
      "text/plain": [
       "['full_pipeline.pkl']"
      ]
     },
     "execution_count": 41,
     "metadata": {},
     "output_type": "execute_result"
    }
   ],
   "source": [
    "# saving the pipeline\n",
    "joblib.dump(full_pipeline, 'full_pipeline.pkl')"
   ]
  },
  {
   "cell_type": "code",
   "execution_count": null,
   "metadata": {},
   "outputs": [],
   "source": []
  }
 ],
 "metadata": {
  "kernelspec": {
   "display_name": "Python 3",
   "language": "python",
   "name": "python3"
  },
  "language_info": {
   "codemirror_mode": {
    "name": "ipython",
    "version": 3
   },
   "file_extension": ".py",
   "mimetype": "text/x-python",
   "name": "python",
   "nbconvert_exporter": "python",
   "pygments_lexer": "ipython3",
   "version": "3.11.5"
  }
 },
 "nbformat": 4,
 "nbformat_minor": 2
}
